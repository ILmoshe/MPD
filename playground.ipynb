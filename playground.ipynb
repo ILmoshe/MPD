{
 "cells": [
  {
   "cell_type": "code",
   "execution_count": 14,
   "metadata": {},
   "outputs": [
    {
     "name": "stdout",
     "output_type": "stream",
     "text": [
      "NO GO ZONE\n"
     ]
    },
    {
     "data": {
      "image/svg+xml": [
       "<svg xmlns=\"http://www.w3.org/2000/svg\" xmlns:xlink=\"http://www.w3.org/1999/xlink\" width=\"100.0\" height=\"100.0\" viewBox=\"35.1550422901082 33.09866846166603 0.016089852086388134 0.010223945571318893\" preserveAspectRatio=\"xMinYMin meet\"><g transform=\"matrix(1,0,0,-1,0,66.20756086890339)\"><path fill-rule=\"evenodd\" fill=\"#66cc99\" stroke=\"#555555\" stroke-width=\"0.0003217970417277627\" opacity=\"0.6\" d=\"M 35.15563821055584,33.10796756750554 L 35.16008845861906,33.108296486789705 L 35.17053622174694,33.10312071550707 L 35.158378324384486,33.099264382113674 L 35.15563821055584,33.10796756750554 z\" /></g></svg>"
      ],
      "text/plain": [
       "<POLYGON ((35.156 33.108, 35.16 33.108, 35.171 33.103, 35.158 33.099, 35.156...>"
      ]
     },
     "execution_count": 14,
     "metadata": {},
     "output_type": "execute_result"
    }
   ],
   "source": [
    "from shapely.ops import split\n",
    "from shapely import GeometryCollection, Polygon, LineString, difference, intersection\n",
    "\n",
    "def swap(polygon):\n",
    "    result = [(coord[1], coord[0]) for coord in polygon]\n",
    "    return result\n",
    "\n",
    "# swap because geoJSON lon first\n",
    "nogo_zone1 = swap(\n",
    "    [\n",
    "        [43.107064367495, 35.15697128055],\n",
    "        [43.100520570157, 35.159031217074],\n",
    "        [43.104324685807, 35.167871777987],\n",
    "        [43.107279055816, 35.159889523958],\n",
    "    ]\n",
    ")\n",
    "\n",
    "nogo_zone1_polygon_without_buffer: Polygon = Polygon(nogo_zone1).buffer(\n",
    "    0.001, join_style=2\n",
    ")\n",
    "\n",
    "print(\"NO GO ZONE\")\n",
    "nogo_zone1 = Polygon(nogo_zone1)\n",
    "nogo_zone1\n"
   ]
  },
  {
   "cell_type": "code",
   "execution_count": 15,
   "metadata": {},
   "outputs": [
    {
     "name": "stdout",
     "output_type": "stream",
     "text": [
      "FROM POINT TO POINT\n"
     ]
    },
    {
     "data": {
      "image/svg+xml": [
       "<svg xmlns=\"http://www.w3.org/2000/svg\" xmlns:xlink=\"http://www.w3.org/1999/xlink\" width=\"100.0\" height=\"100.0\" viewBox=\"35.153105200000006 33.0952452 0.015549599999992836 0.024699599999998156\" preserveAspectRatio=\"xMinYMin meet\"><g transform=\"matrix(1,0,0,-1,0,66.21519)\"><polyline fill=\"none\" stroke=\"#66cc99\" stroke-width=\"0.0004939919999999631\" points=\"35.16774,33.09616 35.15402,33.11903\" opacity=\"0.8\" /></g></svg>"
      ],
      "text/plain": [
       "<LINESTRING (35.168 33.096, 35.154 33.119)>"
      ]
     },
     "execution_count": 15,
     "metadata": {},
     "output_type": "execute_result"
    }
   ],
   "source": [
    "# [35.14627, 43.06035, 1000] [35.15563821055584, 43.10796756750554, 1000]\n",
    "\n",
    "from_coord = (35.14627, 43.06035)\n",
    "to_coord = (43.10925, 35.16032)\n",
    "\n",
    "\n",
    "from_coord = (35.16774, 43.09616)\n",
    "to_coord = (35.15402, 43.11903)\n",
    "\n",
    "print(\"FROM POINT TO POINT\")\n",
    "spliter = LineString([from_coord, to_coord])\n",
    "spliter"
   ]
  },
  {
   "cell_type": "code",
   "execution_count": 16,
   "metadata": {},
   "outputs": [
    {
     "name": "stdout",
     "output_type": "stream",
     "text": [
      "GEOMS WITH SPLIT\n"
     ]
    },
    {
     "data": {
      "image/svg+xml": [
       "<svg xmlns=\"http://www.w3.org/2000/svg\" xmlns:xlink=\"http://www.w3.org/1999/xlink\" width=\"100.0\" height=\"100.0\" viewBox=\"35.1550422901082 33.09866846166603 0.016089852086388134 0.010223945571318893\" preserveAspectRatio=\"xMinYMin meet\"><g transform=\"matrix(1,0,0,-1,0,66.20756086890339)\"><g><path fill-rule=\"evenodd\" fill=\"#66cc99\" stroke=\"#555555\" stroke-width=\"0.0003217970417277627\" opacity=\"0.6\" d=\"M 35.15563821055584,33.10796756750554 L 35.16008845861906,33.108296486789705 L 35.16061593068534,33.108035179681224 L 35.16467876438735,33.10126280309485 L 35.158378324384486,33.099264382113674 L 35.15563821055584,33.10796756750554 z\" /><path fill-rule=\"evenodd\" fill=\"#66cc99\" stroke=\"#555555\" stroke-width=\"0.0003217970417277627\" opacity=\"0.6\" d=\"M 35.16061593068534,33.108035179681224 L 35.17053622174694,33.10312071550707 L 35.16467876438735,33.10126280309485 L 35.16061593068534,33.108035179681224 z\" /></g></g></svg>"
      ],
      "text/plain": [
       "<GEOMETRYCOLLECTION (POLYGON ((35.156 33.108, 35.16 33.108, 35.161 33.108, 3...>"
      ]
     },
     "execution_count": 16,
     "metadata": {},
     "output_type": "execute_result"
    }
   ],
   "source": [
    "geoms: GeometryCollection = split(nogo_zone1, spliter)\n",
    "\n",
    "print(\"GEOMS WITH SPLIT\")\n",
    "geoms"
   ]
  },
  {
   "cell_type": "code",
   "execution_count": 17,
   "metadata": {},
   "outputs": [
    {
     "data": {
      "image/svg+xml": [
       "<svg xmlns=\"http://www.w3.org/2000/svg\" xmlns:xlink=\"http://www.w3.org/1999/xlink\" width=\"100.0\" height=\"100.0\" viewBox=\"35.155276588402586 33.09890275996042 0.009763798138017421 0.009755348982544376\" preserveAspectRatio=\"xMinYMin meet\"><g transform=\"matrix(1,0,0,-1,0,66.20756086890339)\"><path fill-rule=\"evenodd\" fill=\"#66cc99\" stroke=\"#555555\" stroke-width=\"0.00019527596276034843\" opacity=\"0.6\" d=\"M 35.15563821055584,33.10796756750554 L 35.16008845861906,33.108296486789705 L 35.16061593068534,33.108035179681224 L 35.16467876438735,33.10126280309485 L 35.158378324384486,33.099264382113674 L 35.15563821055584,33.10796756750554 z\" /></g></svg>"
      ],
      "text/plain": [
       "<POLYGON ((35.156 33.108, 35.16 33.108, 35.161 33.108, 35.165 33.101, 35.158...>"
      ]
     },
     "execution_count": 17,
     "metadata": {},
     "output_type": "execute_result"
    }
   ],
   "source": [
    "poly1, poly2 = geoms.geoms\n",
    "poly1"
   ]
  },
  {
   "cell_type": "code",
   "execution_count": 18,
   "metadata": {},
   "outputs": [
    {
     "data": {
      "image/svg+xml": [
       "<svg xmlns=\"http://www.w3.org/2000/svg\" xmlns:xlink=\"http://www.w3.org/1999/xlink\" width=\"100.0\" height=\"100.0\" viewBox=\"35.16021911904287 33.10086599145238 0.0107139143465389 0.00756599987131068\" preserveAspectRatio=\"xMinYMin meet\"><g transform=\"matrix(1,0,0,-1,0,66.20929798277606)\"><path fill-rule=\"evenodd\" fill=\"#66cc99\" stroke=\"#555555\" stroke-width=\"0.000214278286930778\" opacity=\"0.6\" d=\"M 35.16061593068534,33.108035179681224 L 35.17053622174694,33.10312071550707 L 35.16467876438735,33.10126280309485 L 35.16061593068534,33.108035179681224 z\" /></g></svg>"
      ],
      "text/plain": [
       "<POLYGON ((35.161 33.108, 35.171 33.103, 35.165 33.101, 35.161 33.108))>"
      ]
     },
     "execution_count": 18,
     "metadata": {},
     "output_type": "execute_result"
    }
   ],
   "source": [
    "poly2"
   ]
  },
  {
   "cell_type": "code",
   "execution_count": 19,
   "metadata": {},
   "outputs": [
    {
     "data": {
      "image/svg+xml": [
       "<svg xmlns=\"http://www.w3.org/2000/svg\" xmlns:xlink=\"http://www.w3.org/1999/xlink\" width=\"100.0\" height=\"100.0\" viewBox=\"35.16055685942701 33.10649932696468 0.001004082245849247 0.00159492397487071\" preserveAspectRatio=\"xMinYMin meet\"><g transform=\"matrix(1,0,0,-1,0,66.21459357790422)\"><polyline fill=\"none\" stroke=\"#66cc99\" stroke-width=\"3.18984794974142e-05\" points=\"35.16061593068534,33.108035179681224 35.16150187041453,33.10655839822301\" opacity=\"0.8\" /></g></svg>"
      ],
      "text/plain": [
       "<LINESTRING (35.161 33.108, 35.162 33.107)>"
      ]
     },
     "execution_count": 19,
     "metadata": {},
     "output_type": "execute_result"
    }
   ],
   "source": [
    "ls = LineString([*poly1.exterior.coords])\n",
    "intersection_polyline_betwean_spliter_and_linestring = intersection(ls, spliter) # intersection\n",
    "intersection_polyline_betwean_spliter_and_linestring"
   ]
  },
  {
   "cell_type": "code",
   "execution_count": 20,
   "metadata": {},
   "outputs": [
    {
     "data": {
      "image/svg+xml": [
       "<svg xmlns=\"http://www.w3.org/2000/svg\" xmlns:xlink=\"http://www.w3.org/1999/xlink\" width=\"100.0\" height=\"100.0\" viewBox=\"35.155276588402586 33.09890275996042 0.009763798138017421 0.009755348982544376\" preserveAspectRatio=\"xMinYMin meet\"><g transform=\"matrix(1,0,0,-1,0,66.20756086890339)\"><g><polyline fill=\"none\" stroke=\"#66cc99\" stroke-width=\"0.00019527596276034843\" points=\"35.15563821055584,33.10796756750554 35.16008845861906,33.108296486789705 35.16061593068534,33.108035179681224\" opacity=\"0.8\" /><polyline fill=\"none\" stroke=\"#66cc99\" stroke-width=\"0.00019527596276034843\" points=\"35.16061593068534,33.108035179681224 35.16467876438735,33.10126280309485 35.158378324384486,33.099264382113674 35.15563821055584,33.10796756750554\" opacity=\"0.8\" /></g></g></svg>"
      ],
      "text/plain": [
       "<MULTILINESTRING ((35.156 33.108, 35.16 33.108, 35.161 33.108), (35.161 33.1...>"
      ]
     },
     "execution_count": 20,
     "metadata": {},
     "output_type": "execute_result"
    }
   ],
   "source": [
    "path: LineString = difference(ls, intersection_polyline_betwean_spliter_and_linestring)\n",
    "path"
   ]
  },
  {
   "cell_type": "code",
   "execution_count": 21,
   "metadata": {},
   "outputs": [
    {
     "data": {
      "text/plain": [
       "'_summary_\\nnow we should calculate distance and compare it with the other path\\n'"
      ]
     },
     "execution_count": 21,
     "metadata": {},
     "output_type": "execute_result"
    }
   ],
   "source": [
    "\"\"\"_summary_\n",
    "now we should calculate distance and compare it with the other path\n",
    "\"\"\""
   ]
  },
  {
   "cell_type": "code",
   "execution_count": 22,
   "metadata": {},
   "outputs": [
    {
     "ename": "NotImplementedError",
     "evalue": "Sub-geometries may have coordinate sequences, but multi-part geometries do not",
     "output_type": "error",
     "traceback": [
      "\u001b[1;31m---------------------------------------------------------------------------\u001b[0m",
      "\u001b[1;31mNotImplementedError\u001b[0m                       Traceback (most recent call last)",
      "Cell \u001b[1;32mIn[22], line 2\u001b[0m\n\u001b[0;32m      1\u001b[0m \u001b[38;5;66;03m# now we should add the start point and end point\u001b[39;00m\n\u001b[1;32m----> 2\u001b[0m path_with_points \u001b[38;5;241m=\u001b[39m LineString([from_coord,\u001b[38;5;241m*\u001b[39m\u001b[43mpath\u001b[49m\u001b[38;5;241;43m.\u001b[39;49m\u001b[43mcoords\u001b[49m, to_coord])\n\u001b[0;32m      3\u001b[0m path_with_points\n",
      "File \u001b[1;32mc:\\Users\\AKA_8700K\\Desktop\\WORK\\MPD\\venv\\Lib\\site-packages\\shapely\\geometry\\base.py:927\u001b[0m, in \u001b[0;36mBaseMultipartGeometry.coords\u001b[1;34m(self)\u001b[0m\n\u001b[0;32m    925\u001b[0m \u001b[38;5;129m@property\u001b[39m\n\u001b[0;32m    926\u001b[0m \u001b[38;5;28;01mdef\u001b[39;00m \u001b[38;5;21mcoords\u001b[39m(\u001b[38;5;28mself\u001b[39m):\n\u001b[1;32m--> 927\u001b[0m     \u001b[38;5;28;01mraise\u001b[39;00m \u001b[38;5;167;01mNotImplementedError\u001b[39;00m(\n\u001b[0;32m    928\u001b[0m         \u001b[38;5;124m\"\u001b[39m\u001b[38;5;124mSub-geometries may have coordinate sequences, \u001b[39m\u001b[38;5;124m\"\u001b[39m\n\u001b[0;32m    929\u001b[0m         \u001b[38;5;124m\"\u001b[39m\u001b[38;5;124mbut multi-part geometries do not\u001b[39m\u001b[38;5;124m\"\u001b[39m\n\u001b[0;32m    930\u001b[0m     )\n",
      "\u001b[1;31mNotImplementedError\u001b[0m: Sub-geometries may have coordinate sequences, but multi-part geometries do not"
     ]
    }
   ],
   "source": [
    "# now we should add the start point and end point\n",
    "path_with_points = LineString([from_coord,*path.coords, to_coord])\n",
    "path_with_points"
   ]
  }
 ],
 "metadata": {
  "kernelspec": {
   "display_name": "venv",
   "language": "python",
   "name": "python3"
  },
  "language_info": {
   "codemirror_mode": {
    "name": "ipython",
    "version": 3
   },
   "file_extension": ".py",
   "mimetype": "text/x-python",
   "name": "python",
   "nbconvert_exporter": "python",
   "pygments_lexer": "ipython3",
   "version": "3.11.1"
  }
 },
 "nbformat": 4,
 "nbformat_minor": 2
}
